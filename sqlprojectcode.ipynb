{
 "cells": [
  {
   "cell_type": "code",
   "execution_count": 6,
   "id": "6f5f7331-8807-4908-91b8-81b64c4c4a50",
   "metadata": {},
   "outputs": [
    {
     "name": "stdout",
     "output_type": "stream",
     "text": [
      "\n",
      "Travel Database Manager\n",
      "1. Add a Trip\n",
      "2. View All Trips\n",
      "3. Search for a Trip\n",
      "4. Delete a Trip\n",
      "5. Exit\n"
     ]
    },
    {
     "name": "stdin",
     "output_type": "stream",
     "text": [
      "Enter your choice:  1\n",
      "Enter destination:  kedarnath\n",
      "Enter travel date (YYYY-MM-DD):  2025-06-06\n",
      "Enter budget:  10000\n"
     ]
    },
    {
     "name": "stdout",
     "output_type": "stream",
     "text": [
      "Trip to kedarnath added successfully.\n",
      "\n",
      "Travel Database Manager\n",
      "1. Add a Trip\n",
      "2. View All Trips\n",
      "3. Search for a Trip\n",
      "4. Delete a Trip\n",
      "5. Exit\n"
     ]
    },
    {
     "name": "stdin",
     "output_type": "stream",
     "text": [
      "Enter your choice:  1\n",
      "Enter destination:  ujjain\n",
      "Enter travel date (YYYY-MM-DD):  2024-10-30\n",
      "Enter budget:  5000\n"
     ]
    },
    {
     "name": "stdout",
     "output_type": "stream",
     "text": [
      "Trip to ujjain added successfully.\n",
      "\n",
      "Travel Database Manager\n",
      "1. Add a Trip\n",
      "2. View All Trips\n",
      "3. Search for a Trip\n",
      "4. Delete a Trip\n",
      "5. Exit\n"
     ]
    },
    {
     "name": "stdin",
     "output_type": "stream",
     "text": [
      "Enter your choice:  3\n",
      "Enter destination to search:  kedarnath\n"
     ]
    },
    {
     "name": "stdout",
     "output_type": "stream",
     "text": [
      "ID: 1, Destination: kedarnath, Date: 2025-06-06, Budget: 10000.0\n",
      "ID: 2, Destination: kedarnath, Date: 2025-06-06, Budget: 10000.0\n",
      "\n",
      "Travel Database Manager\n",
      "1. Add a Trip\n",
      "2. View All Trips\n",
      "3. Search for a Trip\n",
      "4. Delete a Trip\n",
      "5. Exit\n"
     ]
    },
    {
     "name": "stdin",
     "output_type": "stream",
     "text": [
      "Enter your choice:  2\n"
     ]
    },
    {
     "name": "stdout",
     "output_type": "stream",
     "text": [
      "ID: 1, Destination: kedarnath, Date: 2025-06-06, Budget: 10000.0\n",
      "ID: 2, Destination: kedarnath, Date: 2025-06-06, Budget: 10000.0\n",
      "ID: 3, Destination: ujjain, Date: 2024-10-30, Budget: 5000.0\n",
      "\n",
      "Travel Database Manager\n",
      "1. Add a Trip\n",
      "2. View All Trips\n",
      "3. Search for a Trip\n",
      "4. Delete a Trip\n",
      "5. Exit\n"
     ]
    },
    {
     "name": "stdin",
     "output_type": "stream",
     "text": [
      "Enter your choice:  4\n",
      "Enter trip ID to delete:  3\n"
     ]
    },
    {
     "name": "stdout",
     "output_type": "stream",
     "text": [
      "Trip with ID 3 deleted.\n",
      "\n",
      "Travel Database Manager\n",
      "1. Add a Trip\n",
      "2. View All Trips\n",
      "3. Search for a Trip\n",
      "4. Delete a Trip\n",
      "5. Exit\n"
     ]
    },
    {
     "name": "stdin",
     "output_type": "stream",
     "text": [
      "Enter your choice:  2\n"
     ]
    },
    {
     "name": "stdout",
     "output_type": "stream",
     "text": [
      "ID: 1, Destination: kedarnath, Date: 2025-06-06, Budget: 10000.0\n",
      "ID: 2, Destination: kedarnath, Date: 2025-06-06, Budget: 10000.0\n",
      "\n",
      "Travel Database Manager\n",
      "1. Add a Trip\n",
      "2. View All Trips\n",
      "3. Search for a Trip\n",
      "4. Delete a Trip\n",
      "5. Exit\n"
     ]
    },
    {
     "name": "stdin",
     "output_type": "stream",
     "text": [
      "Enter your choice:  5\n"
     ]
    },
    {
     "name": "stdout",
     "output_type": "stream",
     "text": [
      "Exiting... Goodbye!\n"
     ]
    }
   ],
   "source": [
    "import sqlite3\n",
    "\n",
    "# Connect to the SQLite database (or create it if it doesn't exist)\n",
    "conn = sqlite3.connect('travel.db')\n",
    "cursor = conn.cursor()\n",
    "\n",
    "# Create the 'trips' table if it doesn't exist\n",
    "cursor.execute('''\n",
    "CREATE TABLE IF NOT EXISTS trips (\n",
    "    id INTEGER PRIMARY KEY AUTOINCREMENT,\n",
    "    destination TEXT NOT NULL,\n",
    "    date TEXT NOT NULL,\n",
    "    budget REAL\n",
    ")\n",
    "''')\n",
    "conn.commit()\n",
    "\n",
    "def add_trip(destination, date, budget):\n",
    "    cursor.execute('INSERT INTO trips (destination, date, budget) VALUES (?, ?, ?)', \n",
    "                   (destination, date, budget))\n",
    "    conn.commit()\n",
    "    print(f\"Trip to {destination} added successfully.\")\n",
    "\n",
    "def view_trips():\n",
    "    cursor.execute('SELECT * FROM trips')\n",
    "    trips = cursor.fetchall()\n",
    "    if trips:\n",
    "        for trip in trips:\n",
    "            print(f\"ID: {trip[0]}, Destination: {trip[1]}, Date: {trip[2]}, Budget: {trip[3]}\")\n",
    "    else:\n",
    "        print(\"No trips found.\")\n",
    "\n",
    "def search_trip(destination):\n",
    "    cursor.execute('SELECT * FROM trips WHERE destination LIKE ?', (f'%{destination}%',))\n",
    "    trips = cursor.fetchall()\n",
    "    if trips:\n",
    "        for trip in trips:\n",
    "            print(f\"ID: {trip[0]}, Destination: {trip[1]}, Date: {trip[2]}, Budget: {trip[3]}\")\n",
    "    else:\n",
    "        print(f\"No trips found for destination '{destination}'.\")\n",
    "\n",
    "def delete_trip(trip_id):\n",
    "    cursor.execute('DELETE FROM trips WHERE id = ?', (trip_id,))\n",
    "    conn.commit()\n",
    "    print(f\"Trip with ID {trip_id} deleted.\")\n",
    "\n",
    "def show_menu():\n",
    "    print(\"\\nTravel Database Manager\")\n",
    "    print(\"1. Add a Trip\")\n",
    "    print(\"2. View All Trips\")\n",
    "    print(\"3. Search for a Trip\")\n",
    "    print(\"4. Delete a Trip\")\n",
    "    print(\"5. Exit\")\n",
    "\n",
    "while True:\n",
    "    show_menu()\n",
    "    choice = input(\"Enter your choice: \")\n",
    "    \n",
    "    if choice == '1':\n",
    "        destination = input(\"Enter destination: \")\n",
    "        date = input(\"Enter travel date (YYYY-MM-DD): \")\n",
    "        budget = float(input(\"Enter budget: \"))\n",
    "        add_trip(destination, date, budget)\n",
    "    \n",
    "    elif choice == '2':\n",
    "        view_trips()\n",
    "    \n",
    "    elif choice == '3':\n",
    "        destination = input(\"Enter destination to search: \")\n",
    "        search_trip(destination)\n",
    "    \n",
    "    elif choice == '4':\n",
    "        trip_id = int(input(\"Enter trip ID to delete: \"))\n",
    "        delete_trip(trip_id)\n",
    "    \n",
    "    elif choice == '5':\n",
    "        print(\"Exiting... Goodbye!\")\n",
    "        break\n",
    "    \n",
    "    else:\n",
    "        print(\"Invalid choice. Please try again.\")\n",
    "\n",
    "# Close the connection\n",
    "conn.close()"
   ]
  },
  {
   "cell_type": "code",
   "execution_count": null,
   "id": "9ade26b7-4765-422d-b3a9-e00f0f1badf1",
   "metadata": {},
   "outputs": [],
   "source": []
  }
 ],
 "metadata": {
  "kernelspec": {
   "display_name": "Python 3 (ipykernel)",
   "language": "python",
   "name": "python3"
  },
  "language_info": {
   "codemirror_mode": {
    "name": "ipython",
    "version": 3
   },
   "file_extension": ".py",
   "mimetype": "text/x-python",
   "name": "python",
   "nbconvert_exporter": "python",
   "pygments_lexer": "ipython3",
   "version": "3.12.7"
  }
 },
 "nbformat": 4,
 "nbformat_minor": 5
}
